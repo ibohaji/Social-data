{
 "cells": [
  {
   "attachments": {},
   "cell_type": "markdown",
   "metadata": {},
   "source": [
    "# Interactive Visualizations with Bokeh!\n",
    "#### This is a brief exploration of Bokeh's interactive visualization tools as a component of our social data analysis course. We will delve into simple vbar plots to improve our understanding of the distribution of various focus crimes throughout each hour of the day. The data is normalized to enable comparisons of the crimes' differences rather than using absolute numbers.\n",
    "\n",
    "\n"
   ]
  },
  {
   "cell_type": "code",
   "execution_count": 2,
   "metadata": {},
   "outputs": [],
   "source": [
    "import pandas as pd \n",
    "import numpy as np \n",
    "\n",
    "df = pd.read_csv(\"Police_Department_Incident_Reports__Historical_2003_to_May_2018.csv\")"
   ]
  },
  {
   "attachments": {},
   "cell_type": "markdown",
   "metadata": {},
   "source": [
    "We are here going to normalize the data, first by splitting the counts of each crime category per hour, then divide the count of reach hour by the total number of this crime type"
   ]
  },
  {
   "cell_type": "code",
   "execution_count": 3,
   "metadata": {},
   "outputs": [],
   "source": [
    "# Convert the \"Date\" column to datetime type with format '%m/%d/%Y'\n",
    "df[\"Date\"] = pd.to_datetime(df[\"Date\"],format='%m/%d/%Y')\n",
    "\n",
    "# Filter rows with dates between 2010-01-01 and 2017-01-01\n",
    "df = df.loc[(df[\"Date\"]>=\"2010-01-01\") &(df[\"Date\"]<=\"2017-01-01\")]\n",
    "\n",
    "# Extract hour from the \"Time\" column and convert it to integer\n",
    "df[\"Hour\"] = df[\"Time\"].apply(lambda time: int(time.split(\":\")[0]))\n",
    "\n",
    "# Group the data by hour and crime category, and count the number of crimes for each group\n",
    "df_pivot = df.groupby([\"Hour\", \"Category\"])[\"Hour\"].count().unstack(\"Category\")\n",
    "\n",
    "# Normalize the counts by dividing them by the total number of crimes for each hour\n",
    "df_pivot = df_pivot.apply(lambda crime: crime/crime.sum())"
   ]
  },
  {
   "cell_type": "code",
   "execution_count": 10,
   "metadata": {},
   "outputs": [],
   "source": [
    "from bokeh.plotting import figure, output_file, show\n",
    "from bokeh.models import ColumnDataSource, FactorRange, Grid, LinearAxis, Plot, VBar, HoverTool, Legend,LinearColorMapper\n",
    "from bokeh.palettes import Category20\n",
    "from bokeh.io import output_file, show\n",
    "\n",
    "\n",
    "# Create a ColumnDataSource object from a pandas dataframe called df_pivot\n",
    "source = ColumnDataSource(df_pivot)\n",
    "\n",
    "# Create a list of strings representing hours in a day from 0 to 23\n",
    "# and use it to create a FactorRange object that will be used for the x-axis range of the plot.\n",
    "hours = [str(i) for i in range(0,24)]\n",
    "factors = FactorRange(factors=hours)\n",
    "\n",
    "\n",
    "\n",
    "# Create a set of strings representing the crime types that will be plotted.\n",
    "focuscrimes = set(['WEAPON LAWS', 'PROSTITUTION', 'DRIVING UNDER THE INFLUENCE', 'ROBBERY', 'BURGLARY', 'ASSAULT', 'DRUNKENNESS', \n",
    "                    'DRUG/NARCOTIC', 'TRESPASS', 'LARCENY/THEFT', 'VANDALISM', 'VEHICLE THEFT', 'STOLEN PROPERTY', 'DISORDERLY CONDUCT'])\n",
    "\n",
    "# Create an empty dictionary to store the VBars\n",
    "bar = {}\n",
    "\n",
    "# Create a figure object with various attributes and tools.\n",
    "p = figure(title = \"Hourly Crimes\", x_axis_label = \"hour\", y_axis_label = \"Distribution of crime \",\n",
    "           x_range =factors,tools=\"pan,wheel_zoom,box_zoom,reset\",toolbar_location=\"above\" )\n",
    "\n",
    "# Create a color palette based on the number of crime types being plotted\n",
    "colors = Category20[len(focuscrimes)]\n",
    "\n",
    "# Create an empty list to store the legend items\n",
    "TOOLTIPS = [(\"Percentage\", \"@i\")]\n",
    "\n",
    "\n",
    "items = []\n",
    "# Iterate through each crime type and create a corresponding VBar\n",
    "for index,i in enumerate(focuscrimes):\n",
    "    color = colors[index]\n",
    "    # Create a VBar and add it to the figure\n",
    "    bar[i] = p.vbar(x=\"Hour\", top=i, source=source,bottom=0 ,muted_alpha=0.01, width=0.6,muted=True, line_color=\"black\", fill_color=color,alpha=0.75)\n",
    "\n",
    "    # Add the VBar to the legend items list\n",
    "    items.append((i,[bar[i]]))\n",
    "\n",
    "# Create a legend using the items list and add it to the figure\n",
    "legend = Legend(items = items , location =(0,-15))\n",
    "p.add_layout(legend,'right')\n",
    "\n",
    "# Set the width of the plot and the click policy for the legend\n",
    "p.plot_width = 600\n",
    "p.plot_height = 500\n",
    "p.legend.click_policy=\"mute\" \n",
    "\n",
    "# Display the plot\n",
    "show(p)\n",
    "#Specefing our output file \n",
    "output_file(\"Focuscrime.html\")\n"
   ]
  },
  {
   "attachments": {},
   "cell_type": "markdown",
   "metadata": {},
   "source": [
    "####    Now  we'll want to look at which crimes dominate the various districts.\n",
    "#####   So we use stacked barcharts of normalized crime to see how crime types compare in fractional occurences across SF'S precincts \n"
   ]
  },
  {
   "cell_type": "markdown",
   "metadata": {},
   "source": []
  }
 ],
 "metadata": {
  "kernelspec": {
   "display_name": "base",
   "language": "python",
   "name": "python3"
  },
  "language_info": {
   "codemirror_mode": {
    "name": "ipython",
    "version": 3
   },
   "file_extension": ".py",
   "mimetype": "text/x-python",
   "name": "python",
   "nbconvert_exporter": "python",
   "pygments_lexer": "ipython3",
   "version": "3.9.12"
  },
  "orig_nbformat": 4
 },
 "nbformat": 4,
 "nbformat_minor": 2
}
