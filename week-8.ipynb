{
 "cells": [
  {
   "cell_type": "code",
   "execution_count": 45,
   "metadata": {},
   "outputs": [],
   "source": [
    "import numpy as np\n",
    "import pandas as pd \n",
    "df = pd.read_csv(\"Police_Department_Incident_Reports__Historical_2003_to_May_2018.csv\")\n",
    "#df = df[df[\"Category\"] == \"PROSTITUTION\"]\n",
    "df[\"Date\"] = df[\"Date\"].apply(lambda x: x.split(\"/\")[2])\n"
   ]
  },
  {
   "cell_type": "code",
   "execution_count": 94,
   "metadata": {},
   "outputs": [],
   "source": [
    "grouped = df.groupby([\"Category\",\"Date\",\"PdDistrict\"]).size().reset_index(name = \"count\")\n",
    "focuscrimes = ['WEAPON LAWS', 'PROSTITUTION', 'DRIVING UNDER THE INFLUENCE', 'ROBBERY', 'BURGLARY', 'ASSAULT', 'DRUNKENNESS', 'DRUG/NARCOTIC', 'TRESPASS', 'LARCENY/THEFT', 'VANDALISM', 'VEHICLE THEFT', 'STOLEN PROPERTY', 'DISORDERLY CONDUCT']\n",
    "years = [year for year in df[\"Date\"].unique()]\n",
    "grouped = grouped[grouped[\"Category\"]==(\"DRUG/NARCOTIC\")]"
   ]
  },
  {
   "cell_type": "code",
   "execution_count": 130,
   "metadata": {},
   "outputs": [
    {
     "data": {
      "text/plain": [
       "True"
      ]
     },
     "execution_count": 130,
     "metadata": {},
     "output_type": "execute_result"
    }
   ],
   "source": [
    "#Identify if there are any duplicates! \n",
    "boolean = not df[\"IncidntNum\"].is_unique      # True (credit to @Carsten)\n",
    "boolean = df['IncidntNum'].duplicated().any() \n",
    "boolean"
   ]
  },
  {
   "cell_type": "code",
   "execution_count": 159,
   "metadata": {},
   "outputs": [],
   "source": [
    "# We don't need duplicates for the same crime category\n",
    "ids = df[\"IncidntNum\"]\n",
    "duplicated = df[ids.isin(ids[ids.duplicated()])].sort_values(\"IncidntNum\")\n",
    "grouped = duplicated[[\"Category\",\"IncidntNum\",\"Date\",\"location\"]]\n",
    "\n",
    "# Drop duplicates based on both Category and IncidntNum columns\n",
    "duplicated = grouped.drop_duplicates(subset=[\"Category\", \"IncidntNum\"], keep=False)"
   ]
  },
  {
   "cell_type": "code",
   "execution_count": 156,
   "metadata": {},
   "outputs": [],
   "source": [
    "#duplicated_pairs = duplicated.groupby([\"Category\", \"IncidntNum\"]).size().reset_index(name='occurrence')"
   ]
  },
  {
   "cell_type": "code",
   "execution_count": 160,
   "metadata": {},
   "outputs": [
    {
     "data": {
      "text/html": [
       "<div>\n",
       "<style scoped>\n",
       "    .dataframe tbody tr th:only-of-type {\n",
       "        vertical-align: middle;\n",
       "    }\n",
       "\n",
       "    .dataframe tbody tr th {\n",
       "        vertical-align: top;\n",
       "    }\n",
       "\n",
       "    .dataframe thead th {\n",
       "        text-align: right;\n",
       "    }\n",
       "</style>\n",
       "<table border=\"1\" class=\"dataframe\">\n",
       "  <thead>\n",
       "    <tr style=\"text-align: right;\">\n",
       "      <th></th>\n",
       "      <th>Category</th>\n",
       "      <th>IncidntNum</th>\n",
       "      <th>Date</th>\n",
       "      <th>location</th>\n",
       "    </tr>\n",
       "  </thead>\n",
       "  <tbody>\n",
       "    <tr>\n",
       "      <th>233381</th>\n",
       "      <td>DRUG/NARCOTIC</td>\n",
       "      <td>123436</td>\n",
       "      <td>2004</td>\n",
       "      <td>POINT (-122.40340479147902 37.775420706711)</td>\n",
       "    </tr>\n",
       "    <tr>\n",
       "      <th>1985103</th>\n",
       "      <td>SEX OFFENSES, FORCIBLE</td>\n",
       "      <td>123436</td>\n",
       "      <td>2004</td>\n",
       "      <td>POINT (-122.40340479147902 37.775420706711)</td>\n",
       "    </tr>\n",
       "    <tr>\n",
       "      <th>785008</th>\n",
       "      <td>DRUNKENNESS</td>\n",
       "      <td>324684</td>\n",
       "      <td>2003</td>\n",
       "      <td>POINT (-122.433084166809 37.7851499161314)</td>\n",
       "    </tr>\n",
       "    <tr>\n",
       "      <th>527851</th>\n",
       "      <td>WARRANTS</td>\n",
       "      <td>324684</td>\n",
       "      <td>2003</td>\n",
       "      <td>POINT (-122.433084166809 37.7851499161314)</td>\n",
       "    </tr>\n",
       "    <tr>\n",
       "      <th>27107</th>\n",
       "      <td>OTHER OFFENSES</td>\n",
       "      <td>767244</td>\n",
       "      <td>2003</td>\n",
       "      <td>POINT (-122.418382008607 37.7832583770949)</td>\n",
       "    </tr>\n",
       "    <tr>\n",
       "      <th>...</th>\n",
       "      <td>...</td>\n",
       "      <td>...</td>\n",
       "      <td>...</td>\n",
       "      <td>...</td>\n",
       "    </tr>\n",
       "    <tr>\n",
       "      <th>2122697</th>\n",
       "      <td>OTHER OFFENSES</td>\n",
       "      <td>991008997</td>\n",
       "      <td>2016</td>\n",
       "      <td>POINT (-122.4163494281827 37.78255695630781)</td>\n",
       "    </tr>\n",
       "    <tr>\n",
       "      <th>73690</th>\n",
       "      <td>WARRANTS</td>\n",
       "      <td>991078796</td>\n",
       "      <td>2003</td>\n",
       "      <td>POINT (-122.41323751667602 37.7828430233213)</td>\n",
       "    </tr>\n",
       "    <tr>\n",
       "      <th>69031</th>\n",
       "      <td>OTHER OFFENSES</td>\n",
       "      <td>991078796</td>\n",
       "      <td>2003</td>\n",
       "      <td>POINT (-122.41323751667602 37.7828430233213)</td>\n",
       "    </tr>\n",
       "    <tr>\n",
       "      <th>771894</th>\n",
       "      <td>WARRANTS</td>\n",
       "      <td>991510691</td>\n",
       "      <td>2003</td>\n",
       "      <td>POINT (-122.42043329309402 37.7817700809468)</td>\n",
       "    </tr>\n",
       "    <tr>\n",
       "      <th>1942428</th>\n",
       "      <td>OTHER OFFENSES</td>\n",
       "      <td>991510691</td>\n",
       "      <td>2003</td>\n",
       "      <td>POINT (-122.42043329309402 37.7817700809468)</td>\n",
       "    </tr>\n",
       "  </tbody>\n",
       "</table>\n",
       "<p>475768 rows × 4 columns</p>\n",
       "</div>"
      ],
      "text/plain": [
       "                       Category  IncidntNum  Date  \\\n",
       "233381            DRUG/NARCOTIC      123436  2004   \n",
       "1985103  SEX OFFENSES, FORCIBLE      123436  2004   \n",
       "785008              DRUNKENNESS      324684  2003   \n",
       "527851                 WARRANTS      324684  2003   \n",
       "27107            OTHER OFFENSES      767244  2003   \n",
       "...                         ...         ...   ...   \n",
       "2122697          OTHER OFFENSES   991008997  2016   \n",
       "73690                  WARRANTS   991078796  2003   \n",
       "69031            OTHER OFFENSES   991078796  2003   \n",
       "771894                 WARRANTS   991510691  2003   \n",
       "1942428          OTHER OFFENSES   991510691  2003   \n",
       "\n",
       "                                             location  \n",
       "233381    POINT (-122.40340479147902 37.775420706711)  \n",
       "1985103   POINT (-122.40340479147902 37.775420706711)  \n",
       "785008     POINT (-122.433084166809 37.7851499161314)  \n",
       "527851     POINT (-122.433084166809 37.7851499161314)  \n",
       "27107      POINT (-122.418382008607 37.7832583770949)  \n",
       "...                                               ...  \n",
       "2122697  POINT (-122.4163494281827 37.78255695630781)  \n",
       "73690    POINT (-122.41323751667602 37.7828430233213)  \n",
       "69031    POINT (-122.41323751667602 37.7828430233213)  \n",
       "771894   POINT (-122.42043329309402 37.7817700809468)  \n",
       "1942428  POINT (-122.42043329309402 37.7817700809468)  \n",
       "\n",
       "[475768 rows x 4 columns]"
      ]
     },
     "execution_count": 160,
     "metadata": {},
     "output_type": "execute_result"
    }
   ],
   "source": [
    "duplicated"
   ]
  },
  {
   "cell_type": "code",
   "execution_count": null,
   "metadata": {},
   "outputs": [],
   "source": []
  },
  {
   "cell_type": "code",
   "execution_count": null,
   "metadata": {},
   "outputs": [],
   "source": []
  },
  {
   "cell_type": "code",
   "execution_count": null,
   "metadata": {},
   "outputs": [],
   "source": []
  }
 ],
 "metadata": {
  "kernelspec": {
   "display_name": "base",
   "language": "python",
   "name": "python3"
  },
  "language_info": {
   "codemirror_mode": {
    "name": "ipython",
    "version": 3
   },
   "file_extension": ".py",
   "mimetype": "text/x-python",
   "name": "python",
   "nbconvert_exporter": "python",
   "pygments_lexer": "ipython3",
   "version": "3.8.8"
  },
  "orig_nbformat": 4
 },
 "nbformat": 4,
 "nbformat_minor": 2
}
